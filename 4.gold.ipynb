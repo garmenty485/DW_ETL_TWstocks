{
 "cells": [
  {
   "cell_type": "code",
   "execution_count": 0,
   "metadata": {
    "application/vnd.databricks.v1+cell": {
     "cellMetadata": {
      "byteLimit": 2048000,
      "implicitDf": true,
      "rowLimit": 10000
     },
     "inputWidgets": {},
     "nuid": "37fa34dc-b2b8-4aa5-ad97-fb9c3664cbc1",
     "showTitle": false,
     "tableResultSettingsMap": {},
     "title": ""
    }
   },
   "outputs": [],
   "source": [
    "%sql\n",
    "SELECT * FROM kenworkspace.tw_stocks_db.silver_daily"
   ]
  },
  {
   "cell_type": "code",
   "execution_count": 0,
   "metadata": {
    "application/vnd.databricks.v1+cell": {
     "cellMetadata": {
      "byteLimit": 2048000,
      "implicitDf": true,
      "rowLimit": 10000
     },
     "inputWidgets": {},
     "nuid": "b7f218a4-cd09-40f6-a111-200e249f4634",
     "showTitle": false,
     "tableResultSettingsMap": {},
     "title": ""
    }
   },
   "outputs": [],
   "source": [
    "%sql\n",
    "SELECT * FROM kenworkspace.tw_stocks_db.silver_mvrh_monthly"
   ]
  },
  {
   "cell_type": "code",
   "execution_count": 0,
   "metadata": {
    "application/vnd.databricks.v1+cell": {
     "cellMetadata": {
      "byteLimit": 2048000,
      "implicitDf": true,
      "rowLimit": 10000
     },
     "inputWidgets": {},
     "nuid": "f2bf31f3-22aa-46f6-ab7e-0d71ad4a47a8",
     "showTitle": false,
     "tableResultSettingsMap": {},
     "title": ""
    }
   },
   "outputs": [],
   "source": [
    "%sql\n",
    "CREATE OR REPLACE TABLE kenworkspace.tw_stocks_db.gold_ml_mvrh_daily AS\n",
    "  WITH monthly_mvrh AS (\n",
    "    SELECT\n",
    "      date AS mvrh_month_date,\n",
    "      low AS mvrh_low,\n",
    "      high AS mvrh_high,\n",
    "      from_mvrh_percent\n",
    "    FROM kenworkspace.tw_stocks_db.silver_mvrh_monthly\n",
    "    WHERE mvrh = true\n",
    "  ),\n",
    "  daily_with_prev AS (\n",
    "    SELECT\n",
    "      d.date,\n",
    "      d.close,\n",
    "      d.60fhr_percent,\n",
    "      d.60flr_percent,\n",
    "      mm.from_mvrh_percent,\n",
    "      mm.mvrh_low,\n",
    "      mm.mvrh_high,\n",
    "      MAX(mm.mvrh_month_date) OVER (ORDER BY d.date ROWS BETWEEN UNBOUNDED PRECEDING AND 1 PRECEDING) AS last_mvrh_month_date\n",
    "    FROM kenworkspace.tw_stocks_db.silver_daily d\n",
    "    LEFT JOIN monthly_mvrh mm\n",
    "      ON mm.mvrh_month_date < DATE_TRUNC('month', d.date)\n",
    "  ),\n",
    "  trading_days AS (\n",
    "    SELECT\n",
    "      d.date,\n",
    "      COUNT(d2.date) AS days_from_mvrh\n",
    "    FROM daily_with_prev d\n",
    "    JOIN kenworkspace.tw_stocks_db.silver_daily d2\n",
    "      ON d2.date <= d.date\n",
    "      AND d2.date > LAST_DAY(d.last_mvrh_month_date)\n",
    "    WHERE d.last_mvrh_month_date IS NOT NULL\n",
    "    GROUP BY d.date\n",
    "  ),\n",
    "  with_mvrh_vals AS (\n",
    "    SELECT\n",
    "      d.date,\n",
    "      d.close,\n",
    "      d.60fhr_percent,\n",
    "      d.60flr_percent,\n",
    "      d.from_mvrh_percent,\n",
    "      d.mvrh_low,\n",
    "      d.mvrh_high,\n",
    "      t.days_from_mvrh\n",
    "    FROM daily_with_prev d\n",
    "    LEFT JOIN trading_days t\n",
    "      ON d.date = t.date\n",
    "  ),\n",
    "  final_calc AS (\n",
    "    SELECT\n",
    "      date,\n",
    "      from_mvrh_percent,\n",
    "      ROUND((close / mvrh_low - 1) * 100, 2) AS from_mvrh_low_percent,\n",
    "      ROUND((close / mvrh_high - 1) * 100, 2) AS from_mvrh_high_percent,\n",
    "      days_from_mvrh,\n",
    "      (60fhr_percent > 20 AND 60flr_percent > -10) AS 60_days_profitable\n",
    "    FROM with_mvrh_vals\n",
    "  )\n",
    "  SELECT * FROM final_calc\n",
    "  ORDER BY date;"
   ]
  },
  {
   "cell_type": "code",
   "execution_count": 0,
   "metadata": {
    "application/vnd.databricks.v1+cell": {
     "cellMetadata": {
      "byteLimit": 2048000,
      "implicitDf": true,
      "rowLimit": 10000
     },
     "inputWidgets": {},
     "nuid": "6f8a26bb-6ffe-4891-a8fb-9a1694d55254",
     "showTitle": false,
     "tableResultSettingsMap": {},
     "title": ""
    }
   },
   "outputs": [],
   "source": [
    "%sql\n",
    "use catalog `kenworkspace`; \n",
    "\n",
    "select * \n",
    "from `tw_stocks_db`.`gold_ml_mvrh_daily`\n",
    "where `60_days_profitable` = true"
   ]
  },
  {
   "cell_type": "code",
   "execution_count": 0,
   "metadata": {
    "application/vnd.databricks.v1+cell": {
     "cellMetadata": {
      "byteLimit": 2048000,
      "implicitDf": true,
      "rowLimit": 10000
     },
     "inputWidgets": {},
     "nuid": "6001558a-2624-463d-987a-e823d93a8ce1",
     "showTitle": false,
     "tableResultSettingsMap": {},
     "title": ""
    }
   },
   "outputs": [],
   "source": [
    "%sql\n",
    "WITH monthly_mvrh AS (\n",
    "    SELECT\n",
    "      date AS mvrh_month_date,\n",
    "      low AS mvrh_low,\n",
    "      high AS mvrh_high,\n",
    "      from_mvrh_percent\n",
    "    FROM kenworkspace.tw_stocks_db.silver_mvrh_monthly\n",
    "    WHERE mvrh = true\n",
    "  ),\n",
    "  daily_with_prev AS (\n",
    "    SELECT\n",
    "      d.date,\n",
    "      d.close,\n",
    "      d.60fhr_percent,\n",
    "      d.60flr_percent,\n",
    "      mm.from_mvrh_percent,\n",
    "      mm.mvrh_low,\n",
    "      mm.mvrh_high,\n",
    "      mm.mvrh_month_date AS last_mvrh_month_date\n",
    "    FROM kenworkspace.tw_stocks_db.silver_daily d\n",
    "    LEFT JOIN LATERAL (\n",
    "      SELECT *\n",
    "      FROM monthly_mvrh mm\n",
    "      WHERE mm.mvrh_month_date < DATE_TRUNC('month', d.date)\n",
    "      ORDER BY mm.mvrh_month_date DESC\n",
    "      LIMIT 1\n",
    "    ) mm\n",
    "  )\n",
    "-- SELECT *\n",
    "-- FROM daily_with_prev\n",
    "\n",
    "SELECT *\n",
    "FROM monthly_mvrh"
   ]
  },
  {
   "cell_type": "code",
   "execution_count": 0,
   "metadata": {
    "application/vnd.databricks.v1+cell": {
     "cellMetadata": {
      "byteLimit": 2048000,
      "implicitDf": true,
      "rowLimit": 10000
     },
     "inputWidgets": {},
     "nuid": "bebdea13-a086-4293-bfbf-4c5a2e2f99ac",
     "showTitle": false,
     "tableResultSettingsMap": {
      "0": {
       "dataGridStateBlob": "{\"version\":1,\"tableState\":{\"columnPinning\":{\"left\":[\"#row_number#\"],\"right\":[]},\"columnSizing\":{},\"columnVisibility\":{}},\"settings\":{\"columns\":{}},\"syncTimestamp\":1753352690584}",
       "filterBlob": null,
       "queryPlanFiltersBlob": null,
       "tableResultIndex": 0
      }
     },
     "title": ""
    }
   },
   "outputs": [],
   "source": [
    "%sql\n",
    "CREATE OR REPLACE TABLE kenworkspace.tw_stocks_db.gold_ml_mvrh_daily AS\n",
    "  WITH monthly_mvrh AS (\n",
    "      SELECT\n",
    "        date AS mvrh_month_date,\n",
    "        low AS mvrh_low,\n",
    "        high AS mvrh_high,\n",
    "        from_mvrh_percent\n",
    "      FROM kenworkspace.tw_stocks_db.silver_mvrh_monthly\n",
    "      WHERE mvrh = true\n",
    "  ),\n",
    "  trade_days AS (\n",
    "    SELECT\n",
    "      date,\n",
    "      ROW_NUMBER() OVER (ORDER BY date) AS trade_day_seq\n",
    "    FROM kenworkspace.tw_stocks_db.silver_daily\n",
    "  ),\n",
    "  mvrh_month_last_trade AS (\n",
    "    SELECT\n",
    "      DATE_TRUNC('month', date) AS mvrh_month_date,\n",
    "      MAX(date) AS last_trade_date_of_mvrh_month\n",
    "    FROM kenworkspace.tw_stocks_db.silver_daily\n",
    "    GROUP BY DATE_TRUNC('month', date)\n",
    "  ),\n",
    "  daily_with_prev AS (\n",
    "    SELECT\n",
    "      d.date,\n",
    "      d.close,\n",
    "      d.60fhr_percent,\n",
    "      d.60flr_percent,\n",
    "      mm.from_mvrh_percent,\n",
    "      mm.mvrh_low,\n",
    "      mm.mvrh_high,\n",
    "      mm.mvrh_month_date AS last_mvrh_month_date,\n",
    "      mmlt.last_trade_date_of_mvrh_month,\n",
    "      td_d.trade_day_seq AS d_trade_seq,\n",
    "      td_m.trade_day_seq AS mvrh_trade_seq,\n",
    "      (td_d.trade_day_seq - td_m.trade_day_seq) AS days_from_mvrh\n",
    "    FROM kenworkspace.tw_stocks_db.silver_daily d\n",
    "    LEFT JOIN LATERAL (\n",
    "      SELECT *\n",
    "      FROM monthly_mvrh mm\n",
    "      WHERE mm.mvrh_month_date < DATE_TRUNC('month', d.date)\n",
    "      ORDER BY mm.mvrh_month_date DESC\n",
    "      LIMIT 1\n",
    "    ) mm\n",
    "    LEFT JOIN mvrh_month_last_trade mmlt\n",
    "      ON mmlt.mvrh_month_date = mm.mvrh_month_date\n",
    "    LEFT JOIN trade_days td_d\n",
    "      ON td_d.date = d.date\n",
    "    LEFT JOIN trade_days td_m\n",
    "      ON td_m.date = mmlt.last_trade_date_of_mvrh_month\n",
    "  ),\n",
    "  filtered_daily AS (\n",
    "    SELECT *\n",
    "    FROM daily_with_prev\n",
    "    WHERE\n",
    "      date IS NOT NULL\n",
    "      AND close IS NOT NULL\n",
    "      AND 60fhr_percent IS NOT NULL\n",
    "      AND 60flr_percent IS NOT NULL\n",
    "      AND from_mvrh_percent IS NOT NULL\n",
    "      AND mvrh_low IS NOT NULL\n",
    "      AND mvrh_high IS NOT NULL\n",
    "      AND last_mvrh_month_date IS NOT NULL\n",
    "  )\n",
    "\n",
    "  SELECT\n",
    "    date,\n",
    "    from_mvrh_percent,\n",
    "    days_from_mvrh,\n",
    "    ROUND((close / mvrh_low - 1) * 100, 2) AS from_mvrh_low_percent,\n",
    "    ROUND((close / mvrh_high - 1) * 100, 2) AS from_mvrh_high_percent,\n",
    "    (60fhr_percent > 20 AND 60flr_percent > -10) AS 60_days_profitable\n",
    "  FROM filtered_daily\n",
    "\n"
   ]
  },
  {
   "cell_type": "code",
   "execution_count": 0,
   "metadata": {
    "application/vnd.databricks.v1+cell": {
     "cellMetadata": {
      "byteLimit": 2048000,
      "implicitDf": true,
      "rowLimit": 10000
     },
     "inputWidgets": {},
     "nuid": "e4636e17-469f-4796-97f0-92e0d9704bc9",
     "showTitle": false,
     "tableResultSettingsMap": {},
     "title": ""
    }
   },
   "outputs": [],
   "source": [
    "%sql\n",
    "use catalog `kenworkspace`; \n",
    "\n",
    "select * from `tw_stocks_db`.`gold_ml_mvrh_daily`\n",
    "where `60_days_profitable` = true"
   ]
  },
  {
   "cell_type": "code",
   "execution_count": 0,
   "metadata": {
    "application/vnd.databricks.v1+cell": {
     "cellMetadata": {
      "byteLimit": 2048000,
      "implicitDf": true,
      "rowLimit": 10000
     },
     "inputWidgets": {},
     "nuid": "53549011-6aa3-4f25-9b26-e82613ddf8f3",
     "showTitle": false,
     "tableResultSettingsMap": {},
     "title": ""
    }
   },
   "outputs": [],
   "source": [
    "%sql\n",
    "use catalog `kenworkspace`; \n",
    "\n",
    "select * from `tw_stocks_db`.`gold_ml_mvrh_daily`"
   ]
  }
 ],
 "metadata": {
  "application/vnd.databricks.v1+notebook": {
   "computePreferences": null,
   "dashboards": [],
   "environmentMetadata": {
    "base_environment": "",
    "environment_version": "2"
   },
   "inputWidgetPreferences": null,
   "language": "python",
   "notebookMetadata": {
    "mostRecentlyExecutedCommandWithImplicitDF": {
     "commandId": 5278264366625101,
     "dataframes": [
      "_sqldf"
     ]
    },
    "pythonIndentUnit": 4
   },
   "notebookName": "4.gold",
   "widgets": {}
  },
  "language_info": {
   "name": "python"
  }
 },
 "nbformat": 4,
 "nbformat_minor": 0
}
