{
 "cells": [
  {
   "cell_type": "markdown",
   "metadata": {
    "application/vnd.databricks.v1+cell": {
     "cellMetadata": {},
     "inputWidgets": {},
     "nuid": "329dd2d5-3bb0-48e5-bfec-66796bcd0ef7",
     "showTitle": false,
     "tableResultSettingsMap": {},
     "title": ""
    }
   },
   "source": [
    "## Null value check for table [bronze_daily]"
   ]
  },
  {
   "cell_type": "code",
   "execution_count": 0,
   "metadata": {
    "application/vnd.databricks.v1+cell": {
     "cellMetadata": {
      "byteLimit": 2048000,
      "implicitDf": true,
      "rowLimit": 10000
     },
     "inputWidgets": {},
     "nuid": "97c6f6c6-80f1-40b8-bbc0-0e15f2a32dca",
     "showTitle": false,
     "tableResultSettingsMap": {},
     "title": ""
    }
   },
   "outputs": [],
   "source": [
    "from pyspark.sql.functions import col, sum\n",
    "\n",
    "df = spark.read.table(\"kenworkspace.tw_stocks_db.bronze_daily\")\n",
    "\n",
    "# 假設 df 是你的 DataFrame\n",
    "null_counts = df.select([sum(col(c).isNull().cast(\"int\")).alias(c) for c in df.columns])\n",
    "null_counts.show()\n"
   ]
  },
  {
   "cell_type": "markdown",
   "metadata": {
    "application/vnd.databricks.v1+cell": {
     "cellMetadata": {},
     "inputWidgets": {},
     "nuid": "63a934ac-2cde-4110-99dc-e1ccba241562",
     "showTitle": false,
     "tableResultSettingsMap": {},
     "title": ""
    }
   },
   "source": [
    "##Null value check for table [bronze_monthly]"
   ]
  },
  {
   "cell_type": "code",
   "execution_count": 0,
   "metadata": {
    "application/vnd.databricks.v1+cell": {
     "cellMetadata": {
      "byteLimit": 2048000,
      "implicitDf": true,
      "rowLimit": 10000
     },
     "inputWidgets": {},
     "nuid": "59c1aac4-0027-4a0b-809b-8ecb4b6ec945",
     "showTitle": false,
     "tableResultSettingsMap": {},
     "title": ""
    }
   },
   "outputs": [],
   "source": [
    "df = spark.read.table(\"kenworkspace.tw_stocks_db.bronze_monthly\")\n",
    "\n",
    "# 假設 df 是你的 DataFrame\n",
    "null_counts = df.select([sum(col(c).isNull().cast(\"int\")).alias(c) for c in df.columns])\n",
    "null_counts.show()"
   ]
  },
  {
   "cell_type": "markdown",
   "metadata": {
    "application/vnd.databricks.v1+cell": {
     "cellMetadata": {},
     "inputWidgets": {},
     "nuid": "23ec55fa-af4b-475b-b9a5-7fadd12e5a76",
     "showTitle": false,
     "tableResultSettingsMap": {},
     "title": ""
    }
   },
   "source": [
    "## Feature engineering for table [bronze_monthly]\n",
    "### 1. Monthly volume record high [MVRH]\n",
    "### 2. Distance (%) from last MVRH [from_MVRH]"
   ]
  },
  {
   "cell_type": "code",
   "execution_count": 0,
   "metadata": {
    "application/vnd.databricks.v1+cell": {
     "cellMetadata": {
      "byteLimit": 2048000,
      "implicitDf": true,
      "rowLimit": 10000
     },
     "inputWidgets": {},
     "nuid": "4d6e5f4f-9db6-4b52-ba79-080ac6f04e06",
     "showTitle": false,
     "tableResultSettingsMap": {},
     "title": ""
    }
   },
   "outputs": [],
   "source": [
    "%sql\n",
    "CREATE OR REPLACE TABLE kenworkspace.tw_stocks_db.silver_mvrh_monthly AS\n",
    "  WITH base AS (\n",
    "    SELECT\n",
    "      `date`,\n",
    "      `open`,\n",
    "      `high`,\n",
    "      `low`,\n",
    "      `close`,\n",
    "      `volume`,\n",
    "      MAX(`volume`) OVER (ORDER BY `date`) AS max_volume_so_far\n",
    "    FROM kenworkspace.tw_stocks_db.bronze_monthly\n",
    "  ),\n",
    "  mvrh_flagged AS (\n",
    "    SELECT *,\n",
    "      volume = max_volume_so_far AS mvrh\n",
    "    FROM base\n",
    "  ),\n",
    "  add_previous_mvrh AS (\n",
    "    SELECT *,\n",
    "      -- 找出每一筆資料之前的最近一次 MVRH 的 volume（排除自己）\n",
    "      LAG(\n",
    "        CASE WHEN mvrh THEN volume ELSE NULL END\n",
    "      ) IGNORE NULLS OVER (ORDER BY `date`) AS last_mvrh_volume\n",
    "    FROM mvrh_flagged\n",
    "  ),\n",
    "  final AS (\n",
    "    SELECT *,\n",
    "      -- 計算與前一次 MVRH 的百分比差距\n",
    "      CASE \n",
    "        WHEN last_mvrh_volume IS NOT NULL THEN \n",
    "          ROUND((volume - last_mvrh_volume) / last_mvrh_volume * 100, 2)\n",
    "        ELSE NULL \n",
    "      END AS from_mvrh_percent\n",
    "    FROM add_previous_mvrh\n",
    "  )\n",
    "  SELECT * FROM final;"
   ]
  },
  {
   "cell_type": "code",
   "execution_count": 0,
   "metadata": {
    "application/vnd.databricks.v1+cell": {
     "cellMetadata": {
      "byteLimit": 2048000,
      "implicitDf": true,
      "rowLimit": 10000
     },
     "inputWidgets": {},
     "nuid": "008da2b2-99b1-4da3-8c1a-87e988ede806",
     "showTitle": false,
     "tableResultSettingsMap": {
      "0": {
       "dataGridStateBlob": "{\"version\":1,\"tableState\":{\"columnPinning\":{\"left\":[\"#row_number#\"],\"right\":[]},\"columnSizing\":{},\"columnVisibility\":{}},\"settings\":{\"columns\":{}},\"syncTimestamp\":1753330638303}",
       "filterBlob": null,
       "queryPlanFiltersBlob": null,
       "tableResultIndex": 0
      }
     },
     "title": ""
    }
   },
   "outputs": [],
   "source": [
    "%sql\n",
    "use catalog `kenworkspace`; select * from `tw_stocks_db`.`silver_mvrh_monthly` limit 100;"
   ]
  },
  {
   "cell_type": "code",
   "execution_count": 0,
   "metadata": {
    "application/vnd.databricks.v1+cell": {
     "cellMetadata": {},
     "inputWidgets": {},
     "nuid": "de483ae7-d163-4869-baaf-acd52bec28bd",
     "showTitle": false,
     "tableResultSettingsMap": {},
     "title": ""
    }
   },
   "outputs": [],
   "source": []
  }
 ],
 "metadata": {
  "application/vnd.databricks.v1+notebook": {
   "computePreferences": null,
   "dashboards": [],
   "environmentMetadata": {
    "base_environment": "",
    "environment_version": "2"
   },
   "inputWidgetPreferences": null,
   "language": "python",
   "notebookMetadata": {
    "mostRecentlyExecutedCommandWithImplicitDF": {
     "commandId": 6358459508922306,
     "dataframes": [
      "_sqldf"
     ]
    },
    "pythonIndentUnit": 4
   },
   "notebookName": "3.silver",
   "widgets": {}
  },
  "language_info": {
   "name": "python"
  }
 },
 "nbformat": 4,
 "nbformat_minor": 0
}
